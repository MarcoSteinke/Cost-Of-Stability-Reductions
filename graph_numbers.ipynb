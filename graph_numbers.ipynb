{
 "cells": [
  {
   "cell_type": "markdown",
   "metadata": {},
   "source": [
    "## Implementation of the graph numbers using networkx:\n",
    "\n",
    "This jupyter notebook shows the implementation of the graph numbers $\\xi \\in \\{\\alpha, \\beta, \\chi, \\omega\\}$."
   ]
  },
  {
   "cell_type": "code",
   "execution_count": 3,
   "metadata": {},
   "outputs": [],
   "source": [
    "from colorama import Fore\n",
    "from colorama import Style\n",
    "\n",
    "TEXT_SUCCESSFUL = \"{}succesful{}!\".format(Fore.GREEN, Style.RESET_ALL)\n",
    "\n",
    "def test_failed(output):\n",
    "    return \"{}{}{}!\".format(Fore.RED, output, Style.RESET_ALL)\n",
    "\n",
    "def test_multiple(func,tests):\n",
    "    for entry in tests:\n",
    "        value = entry[0]\n",
    "        expected = entry[1]\n",
    "        actual = func(*value) \n",
    "        if actual == expected:\n",
    "            print(\"Test [{}] {}\".format(str(value), TEXT_SUCCESSFUL))\n",
    "        else:\n",
    "            print(test_failed(\"Test [{}] failed! Expected {} but calculated {} ...\".format(str(value),expected,actual)))\n",
    "            break\n",
    "    else:\n",
    "        print(\"All tests successful!\")\n",
    "        \n",
    "def test(func,test,name):\n",
    "    value = test[0]\n",
    "    expected = test[1]\n",
    "    actual = func(value) \n",
    "    if actual == expected:\n",
    "        print(\"Test [{}] {}\".format(name, TEXT_SUCCESSFUL))\n",
    "    else:\n",
    "        print(test_failed(\"Test [{}] failed! Expected {} but calculated {} ...\".format(name,expected,actual)))\n",
    "        return\n",
    "    \n",
    "def test_instance_method(instance_method_call, expected, name):\n",
    "    actual = instance_method_call\n",
    "    if actual == expected:\n",
    "        print(\"Test [{}] {}\".format(str(name), TEXT_SUCCESSFUL))\n",
    "    else:\n",
    "        print(test_failed(\"Test [{}] failed! Expected {} but calculated {} ...\".format(str(name),expected,actual)))\n",
    "        return"
   ]
  },
  {
   "cell_type": "code",
   "execution_count": 4,
   "metadata": {},
   "outputs": [
    {
     "name": "stdout",
     "output_type": "stream",
     "text": [
      "Test [test graph number alpha] \u001b[32msuccesful\u001b[0m!\n",
      "Test [test graph number beta] \u001b[32msuccesful\u001b[0m!\n",
      "Test [test graph number chi] \u001b[32msuccesful\u001b[0m!\n",
      "Test [test graph number omega] \u001b[32msuccesful\u001b[0m!\n"
     ]
    }
   ],
   "source": [
    "import networkx as nx\n",
    "\n",
    "# returns the size of the maximum-size independent set in the graph G\n",
    "def alpha(G):\n",
    "    return len(nx.maximal_independent_set(G))\n",
    "\n",
    "# Let S be the maximum-size independent set in the graph G. \n",
    "# Then V(G) - S is the minimum vertex cover of the graph G.\n",
    "def beta(G):\n",
    "    return len(G.nodes()) - alpha(G)\n",
    "\n",
    "# return the minimum required colors to color the graph G\n",
    "def chi(G):\n",
    "    # get the coloring as a map\n",
    "    coloring = nx.coloring.greedy_color(G, strategy=\"largest_first\")\n",
    "    # get all used colors and remove duplicates, then return the length of the color list\n",
    "    return len(set(coloring.values()))\n",
    "\n",
    "# return the value of the graph number omega in the graph G\n",
    "def omega(G):\n",
    "    return max(map(lambda clique: len(clique), nx.find_cliques(G)) or 0)\n",
    "\n",
    "test_graph = nx.caveman_graph(5,5)\n",
    "test_graph2 = nx.cycle_graph(4)\n",
    "\n",
    "test(alpha, (test_graph, 5), \"test graph number alpha\")\n",
    "test(beta, (test_graph, 20), \"test graph number beta\")\n",
    "test(chi, (test_graph2, 2), \"test graph number chi\")\n",
    "test(omega, (test_graph, 5), \"test graph number omega\")"
   ]
  }
 ],
 "metadata": {
  "kernelspec": {
   "display_name": "Python 3.8.3 32-bit",
   "language": "python",
   "name": "python3"
  },
  "language_info": {
   "codemirror_mode": {
    "name": "ipython",
    "version": 3
   },
   "file_extension": ".py",
   "mimetype": "text/x-python",
   "name": "python",
   "nbconvert_exporter": "python",
   "pygments_lexer": "ipython3",
   "version": "3.8.3"
  },
  "orig_nbformat": 4,
  "vscode": {
   "interpreter": {
    "hash": "bbe9640f49e81eda04b34330051fbc5bae5ad487d9c425e9ac9f0def8d432c72"
   }
  }
 },
 "nbformat": 4,
 "nbformat_minor": 2
}
